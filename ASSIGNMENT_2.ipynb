{
  "nbformat": 4,
  "nbformat_minor": 0,
  "metadata": {
    "colab": {
      "name": "ASSIGNMENT 2.ipynb",
      "provenance": [],
      "authorship_tag": "ABX9TyMsghi0h9k/JHp4aK1Bh5Bi"
    },
    "kernelspec": {
      "name": "python3",
      "display_name": "Python 3"
    },
    "language_info": {
      "name": "python"
    }
  },
  "cells": [
    {
      "cell_type": "code",
      "metadata": {
        "colab": {
          "base_uri": "https://localhost:8080/"
        },
        "id": "aL0GrgqEIZT6",
        "outputId": "dfeac355-ad41-477f-9c02-dc33d5650160"
      },
      "source": [
        "from sympy import *\n",
        "x, y = symbols('x y') \n",
        "exp = x**2 + y**2 + 10 \n",
        "exp_diff = Derivative(exp,x)\n",
        "dfx = exp_diff.doit()\n",
        "exp_diff = Derivative(exp,y)\n",
        "dfy = exp_diff.doit()\n",
        "print(f\"1st order derivative : \\ndf/dx : {dfx} \\ndf/dy : {dfy} \") \n",
        "\n",
        "#step 1 declarations\n",
        "x1 = -1.0 \n",
        "y1 = 1.0  \n",
        "itr = 100  \n",
        "learning_rate = 0.1\n",
        "\n",
        "for i in range(0,itr):\n",
        "  #step 2:\n",
        "  x, y = symbols('x y')\n",
        "  dfdx = dfx.subs(x,x1)\n",
        "  dfdx = round(dfdx,2)\n",
        "  dfdy = dfy.subs(y,y1)\n",
        "  dfdy = round(dfdy,2)\n",
        "  #step 3:\n",
        "  dx=(-1.0)*learning_rate*dfdx\n",
        "  dy=(-1.0)*learning_rate*dfdy\n",
        "  #step 4:\n",
        "  x1=x1+dx\n",
        "  y1=y1+dy\n",
        "  x1=round(x1,2)\n",
        "  y1=round(y1,2)\n",
        "\n",
        "print(f'x value = {x1} \\ny value = {y1}')"
      ],
      "execution_count": 1,
      "outputs": [
        {
          "output_type": "stream",
          "text": [
            "1st order derivative : \n",
            "df/dx : 2*x \n",
            "df/dy : 2*y \n",
            "x value = -0.02 \n",
            "y value = 0.02\n"
          ],
          "name": "stdout"
        }
      ]
    }
  ]
}