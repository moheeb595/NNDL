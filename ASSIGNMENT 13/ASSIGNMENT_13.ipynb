{
  "nbformat": 4,
  "nbformat_minor": 0,
  "metadata": {
    "colab": {
      "name": "ASSIGNMENT 13.ipynb",
      "provenance": []
    },
    "kernelspec": {
      "name": "python3",
      "display_name": "Python 3"
    },
    "language_info": {
      "name": "python"
    }
  },
  "cells": [
    {
      "cell_type": "code",
      "metadata": {
        "id": "pfAn0m-WvQt9"
      },
      "source": [
        "import pandas as pd\n",
        "import numpy as np\n",
        "import matplotlib.pyplot as plt\n",
        "import math"
      ],
      "execution_count": 1,
      "outputs": []
    },
    {
      "cell_type": "code",
      "metadata": {
        "colab": {
          "base_uri": "https://localhost:8080/"
        },
        "id": "ymR0iEGzvYGa",
        "outputId": "b815170d-8271-4804-d2f5-8457e96af4af"
      },
      "source": [
        "data=[[0.2,3.4],[0.4,3.8],[0.6,4.2],[0.8,4.6]] \n",
        "data"
      ],
      "execution_count": 2,
      "outputs": [
        {
          "output_type": "execute_result",
          "data": {
            "text/plain": [
              "[[0.2, 3.4], [0.4, 3.8], [0.6, 4.2], [0.8, 4.6]]"
            ]
          },
          "metadata": {
            "tags": []
          },
          "execution_count": 2
        }
      ]
    },
    {
      "cell_type": "code",
      "metadata": {
        "colab": {
          "base_uri": "https://localhost:8080/"
        },
        "id": "r8wlz5BbvZxU",
        "outputId": "9fc022b1-e5c2-4545-e063-496d6ed9e43f"
      },
      "source": [
        "data_x = []\n",
        "data_y = []\n",
        "for i in range(len(data)):\n",
        "  data_x.append(data[i][0])\n",
        "  data_y.append(data[i][1])\n",
        "data_x = np.array(data_x)\n",
        "data_y = np.array(data_y)\n",
        "print(data_x)\n",
        "print(data_y)"
      ],
      "execution_count": 3,
      "outputs": [
        {
          "output_type": "stream",
          "text": [
            "[0.2 0.4 0.6 0.8]\n",
            "[3.4 3.8 4.2 4.6]\n"
          ],
          "name": "stdout"
        }
      ]
    },
    {
      "cell_type": "code",
      "metadata": {
        "id": "3pH4V84bveCI"
      },
      "source": [
        "max_iters=10000\n",
        "m=1.0\n",
        "c=-1.0\n",
        "Gm=0.0\n",
        "Gc=0.0\n",
        "alpha=0.1\n",
        "exp=10**(-8)\n",
        "dm=0.0\n",
        "dc=0.0\n",
        "iter=1\n",
        "error=[]"
      ],
      "execution_count": 4,
      "outputs": []
    },
    {
      "cell_type": "code",
      "metadata": {
        "colab": {
          "base_uri": "https://localhost:8080/"
        },
        "id": "gAhJR0FdvmPA",
        "outputId": "7f49048e-e0aa-4e09-e4ee-69ae42d226e2"
      },
      "source": [
        "while (iter<=max_iters):\n",
        "  err=0.0\n",
        "  for i in range(4):\n",
        "    gm=-1*(data_y[i]-(m*data_x[i])-c)*data_x[i]\n",
        "    gc=-1*(data_y[i]-(m*data_x[i])-c)\n",
        "    err+=(data_y[i]-m*data_x[i]-c)**2\n",
        "    Gm = Gm + (gm**2)\n",
        "    Gc = Gc + (gc**2) \n",
        "    r1 = math.sqrt(Gm + exp)\n",
        "    r2 = math.sqrt(Gc + exp)\n",
        "    dm = -1*(alpha/r1)*gm\n",
        "    dc = -1*(alpha/r2)*gc\n",
        "    m = m + dm\n",
        "    c = c + dc\n",
        "  error.append(err/8)\n",
        "  iter=iter+1\n",
        "print(\"m=\",m,\"\\nc=\",c)"
      ],
      "execution_count": 5,
      "outputs": [
        {
          "output_type": "stream",
          "text": [
            "m= 2.005007496408316 \n",
            "c= 2.997318666748586\n"
          ],
          "name": "stdout"
        }
      ]
    },
    {
      "cell_type": "code",
      "metadata": {
        "colab": {
          "base_uri": "https://localhost:8080/"
        },
        "id": "klFMPFuqvxdr",
        "outputId": "c29caea7-3b26-41fe-fed2-194be5dcc895"
      },
      "source": [
        "ms=0\n",
        "for i in range(4):\n",
        "  ms+=(data_y[i]-(m*data_x[i])-c)**2\n",
        "ms=ms/4\n",
        "print(\"Mean Square Error:\",ms)"
      ],
      "execution_count": 6,
      "outputs": [
        {
          "output_type": "stream",
          "text": [
            "Mean Square Error: 1.2852874629737716e-06\n"
          ],
          "name": "stdout"
        }
      ]
    },
    {
      "cell_type": "code",
      "metadata": {
        "colab": {
          "base_uri": "https://localhost:8080/",
          "height": 281
        },
        "id": "kQzuMNy9v0UH",
        "outputId": "64d7eb41-55a1-46fd-87c2-93621f0caebe"
      },
      "source": [
        "\n",
        "plt.scatter(data_x,data_y,label=\"Data points\")\n",
        "plt.plot(data_x,m*data_x+c,color='red',label=\"Regression line\")\n",
        "plt.title(\"ADAGRAM\")\n",
        "plt.grid()\n",
        "plt.legend()\n",
        "plt.show()"
      ],
      "execution_count": 7,
      "outputs": [
        {
          "output_type": "display_data",
          "data": {
            "image/png": "[encoded data removed]",
            "text/plain": [
              "<Figure size 432x288 with 1 Axes>"
            ]
          },
          "metadata": {
            "tags": [],
            "needs_background": "light"
          }
        }
      ]
    },
    {
      "cell_type": "code",
      "metadata": {
        "id": "2sUdHRHbv36g",
        "outputId": "9173c17f-b7c0-479a-c7f8-54c683bfd6e8",
        "colab": {
          "base_uri": "https://localhost:8080/",
          "height": 281
        }
      },
      "source": [
        "\n",
        "iters=np.arange(max_iters)\n",
        "plt.plot(iters,error)\n",
        "plt.title(\"Error Rate Analysis\")\n",
        "plt.show()"
      ],
      "execution_count": 8,
      "outputs": [
        {
          "output_type": "display_data",
          "data": {
            "image/png": "[encoded data removed]",
            "text/plain": [
              "<Figure size 432x288 with 1 Axes>"
            ]
          },
          "metadata": {
            "tags": [],
            "needs_background": "light"
          }
        }
      ]
    }
  ]
}