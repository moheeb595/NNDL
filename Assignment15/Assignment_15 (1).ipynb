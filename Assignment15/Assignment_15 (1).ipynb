{
  "nbformat": 4,
  "nbformat_minor": 0,
  "metadata": {
    "colab": {
      "name": "Assignment 15.ipynb",
      "provenance": []
    },
    "kernelspec": {
      "name": "python3",
      "display_name": "Python 3"
    },
    "language_info": {
      "name": "python"
    }
  },
  "cells": [
    {
      "cell_type": "code",
      "metadata": {
        "id": "11z8ndxwc3C4"
      },
      "source": [
        "import pandas as pd\n",
        "import numpy as np\n",
        "import matplotlib.pyplot as plt\n",
        "import math"
      ],
      "execution_count": 1,
      "outputs": []
    },
    {
      "cell_type": "code",
      "metadata": {
        "colab": {
          "base_uri": "https://localhost:8080/"
        },
        "id": "5eMWO1cadDnp",
        "outputId": "d3bd30d8-30c8-462d-847d-4c93da2d341d"
      },
      "source": [
        "data = [[0.2,3.4],[0.4,3.8],[0.6,4.2],[0.8,4.6]] \n",
        "data"
      ],
      "execution_count": 2,
      "outputs": [
        {
          "output_type": "execute_result",
          "data": {
            "text/plain": [
              "[[0.2, 3.4], [0.4, 3.8], [0.6, 4.2], [0.8, 4.6]]"
            ]
          },
          "metadata": {
            "tags": []
          },
          "execution_count": 2
        }
      ]
    },
    {
      "cell_type": "code",
      "metadata": {
        "id": "_iV9XdJmdKtm"
      },
      "source": [
        "data_x=[]\n",
        "data_y=[]\n",
        "for i in range(len(data)):\n",
        "  data_x.append(data[i][0])\n",
        "  data_y.append(data[i][1])\n",
        "data_x=np.array(data_x)\n",
        "data_y=np.array(data_y)"
      ],
      "execution_count": 3,
      "outputs": []
    },
    {
      "cell_type": "code",
      "metadata": {
        "id": "Mz4M2LRzdRXA"
      },
      "source": [
        "max_iters=10000\n",
        "m=1.0\n",
        "c=-1.0\n",
        "Em=0.0\n",
        "Ec=0.0\n",
        "alpha=0.1\n",
        "exp=10**(-8)\n",
        "dm=0.0\n",
        "dc=0.0\n",
        "iter=1\n",
        "error=[]\n",
        "moment = 0.9"
      ],
      "execution_count": 4,
      "outputs": []
    },
    {
      "cell_type": "code",
      "metadata": {
        "colab": {
          "base_uri": "https://localhost:8080/"
        },
        "id": "YneyXpf-dUeQ",
        "outputId": "5371c727-4504-484c-cf17-40828995f4d7"
      },
      "source": [
        "\n",
        "while (iter<=max_iters):\n",
        "  err=0.0\n",
        "  for i in range(4):\n",
        "    gm=-1*(data_y[i]-(m*data_x[i])-c)*data_x[i]\n",
        "    gc=-1*(data_y[i]-(m*data_x[i])-c)\n",
        "    err+=(data_y[i]-m*data_x[i]-c)**2\n",
        "    Em = moment*Em + (1-moment)*(gm**2)\n",
        "    Ec = moment*Ec + (1-moment)*(gc**2)\n",
        "    r1 = math.sqrt(Em + exp)\n",
        "    r2 = math.sqrt(Ec + exp)\n",
        "    dm = -1*(alpha/r1)*gm\n",
        "    dc = -1*(alpha/r2)*gc\n",
        "    m = m + dm\n",
        "    c = c + dc\n",
        "  error.append(err/8)\n",
        "  iter=iter+1\n",
        "print(\"m=\",m,\"\\nc=\",c)"
      ],
      "execution_count": 5,
      "outputs": [
        {
          "output_type": "stream",
          "text": [
            "m= 2.023899171951446 \n",
            "c= 2.9983498001272957\n"
          ],
          "name": "stdout"
        }
      ]
    },
    {
      "cell_type": "code",
      "metadata": {
        "colab": {
          "base_uri": "https://localhost:8080/"
        },
        "id": "sydDxbE4dXYD",
        "outputId": "52745d39-ded1-472f-f815-da5468fa9716"
      },
      "source": [
        "ms=0\n",
        "for i in range(4):\n",
        "  ms+=(data_y[i]-(m*data_x[i])-c)**2\n",
        "ms=ms/4\n",
        "print(\"Mean Square Error:\",ms)"
      ],
      "execution_count": 6,
      "outputs": [
        {
          "output_type": "stream",
          "text": [
            "Mean Square Error: 0.00013463587509730026\n"
          ],
          "name": "stdout"
        }
      ]
    },
    {
      "cell_type": "code",
      "metadata": {
        "colab": {
          "base_uri": "https://localhost:8080/",
          "height": 281
        },
        "id": "O_RnT5A6dbBI",
        "outputId": "c3ee53cd-831d-4455-af40-e202acd03a62"
      },
      "source": [
        "plt.scatter(data_x,data_y,label=\"Data points\")\n",
        "plt.plot(data_x,m*data_x+c,color='red',label=\"Regression line\")\n",
        "plt.title(\"Visualising Adagram\")\n",
        "plt.grid()\n",
        "plt.legend()\n",
        "plt.show()"
      ],
      "execution_count": 7,
      "outputs": [
        {
          "output_type": "display_data",
          "data": {
            "image/png": "[encoded data removed]",
            "text/plain": [
              "<Figure size 432x288 with 1 Axes>"
            ]
          },
          "metadata": {
            "tags": [],
            "needs_background": "light"
          }
        }
      ]
    },
    {
      "cell_type": "code",
      "metadata": {
        "colab": {
          "base_uri": "https://localhost:8080/",
          "height": 281
        },
        "id": "6JGc6eOgdfDP",
        "outputId": "41000011-657e-428a-d595-612993a2526b"
      },
      "source": [
        "iters=np.arange(max_iters)\n",
        "plt.plot(iters,error)\n",
        "plt.title(\"Error Rate\")\n",
        "plt.show()"
      ],
      "execution_count": 8,
      "outputs": [
        {
          "output_type": "display_data",
          "data": {
            "image/png": "[encoded data removed]",
            "text/plain": [
              "<Figure size 432x288 with 1 Axes>"
            ]
          },
          "metadata": {
            "tags": [],
            "needs_background": "light"
          }
        }
      ]
    }
  ]
}