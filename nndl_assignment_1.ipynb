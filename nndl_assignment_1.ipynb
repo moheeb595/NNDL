{
  "nbformat": 4,
  "nbformat_minor": 0,
  "metadata": {
    "colab": {
      "name": "nndl assignment 1",
      "provenance": [],
      "authorship_tag": "ABX9TyP4KA/m43lAc/6S+Wt0Ydjl"
    },
    "kernelspec": {
      "name": "python3",
      "display_name": "Python 3"
    }
  },
  "cells": [
    {
      "cell_type": "code",
      "metadata": {
        "id": "6HOSrre4hgo7"
      },
      "source": [
        "from sympy import *\r\n",
        "x = Symbol('x')\r\n",
        "y = diff(x**4+3*x**2+10,x)"
      ],
      "execution_count": 1,
      "outputs": []
    },
    {
      "cell_type": "code",
      "metadata": {
        "colab": {
          "base_uri": "https://localhost:8080/"
        },
        "id": "xLRk0xOshtmo",
        "outputId": "dde12218-d623-427e-c40e-4b798946469c"
      },
      "source": [
        "print(f'First order derivative is {y}')\r\n",
        "x1 = 6.5\r\n",
        "itr = 2\r\n",
        "learn_rate = 0.01  "
      ],
      "execution_count": 2,
      "outputs": [
        {
          "output_type": "stream",
          "text": [
            "First order derivative is 4*x**3 + 6*x\n"
          ],
          "name": "stdout"
        }
      ]
    },
    {
      "cell_type": "code",
      "metadata": {
        "id": "vijsutkwh5Tf"
      },
      "source": [
        "for i in range(0,itr):\r\n",
        "    x = symbols('x')\r\n",
        "    df = y.subs(x, x1) \r\n",
        "    df = round(df,2)\r\n",
        "    dx = (-1.0)*learn_rate*df\r\n",
        "    x1 = x1 + dx\r\n",
        "    x1 = round(x1, 2)"
      ],
      "execution_count": 3,
      "outputs": []
    },
    {
      "cell_type": "code",
      "metadata": {
        "colab": {
          "base_uri": "https://localhost:8080/"
        },
        "id": "ipnoDIECh-od",
        "outputId": "2eab0c3c-c542-495a-f391-461b3a4d0a84"
      },
      "source": [
        "print(f'Value of x = {x1}')\r\n",
        "ans = x1**4+3*x1**2+10\r\n",
        "print(f'The minimum value of f(x) at x = {x1} is {ans}')"
      ],
      "execution_count": 4,
      "outputs": [
        {
          "output_type": "stream",
          "text": [
            "Value of x = 0.06\n",
            "The minimum value of f(x) at x = 0.06 is 10.01081296\n"
          ],
          "name": "stdout"
        }
      ]
    }
  ]
}