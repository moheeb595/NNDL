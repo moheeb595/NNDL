{
  "nbformat": 4,
  "nbformat_minor": 0,
  "metadata": {
    "colab": {
      "name": "ASSIGNMENT 5.ipynb",
      "provenance": [],
      "authorship_tag": "ABX9TyMODtEMjbDZYJ0dLY40FBf7"
    },
    "kernelspec": {
      "name": "python3",
      "display_name": "Python 3"
    },
    "language_info": {
      "name": "python"
    }
  },
  "cells": [
    {
      "cell_type": "code",
      "metadata": {
        "colab": {
          "base_uri": "https://localhost:8080/"
        },
        "id": "aL0GrgqEIZT6",
        "outputId": "b8eb214e-ec55-4d0b-c037-a20b4f6ed718"
      },
      "source": [
        "from sympy import *\n",
        "m, c = symbols('m c')\n",
        "exp = '0.5*(y-m*x-c)**2'\n",
        "exp_diff = Derivative(exp,m)\n",
        "dfm = exp_diff.doit()\n",
        "exp_diff = Derivative(exp,c)\n",
        "dfc = exp_diff.doit()\n",
        "print(f'1st order derivative w.r.t m and c :\\nde/dm = {dfm} \\nde/dc = {dfc}')\n",
        "xar = [0.2,0.4,0.6,0.8]\n",
        "yar = [3.4,3.8,4.2,4.6]\n",
        "\n",
        "#step 1:\n",
        "m1=1\n",
        "c1=-1\n",
        "learning_rate=0.1\n",
        "itr=100\n",
        "bs=2\n",
        "ns=len(xar)\n",
        "nb=ns//bs\n",
        "ms=ns%bs\n",
        "\n",
        "for i in range(0,itr):\n",
        "  for k in range(0,nb):\n",
        "    dedm1 = 0\n",
        "    dedc1 = 0\n",
        "    for j in range(0,bs):\n",
        "      id=k*bs+j\n",
        "      #step 2:\n",
        "      m,c,x,y = symbols('m c x y')\n",
        "      dedm = dfm.subs(m,m1)\n",
        "      dedm = dedm.subs(c, c1) \n",
        "      dedm= dedm.subs(x, xar[id]) \n",
        "      dedm = dedm.subs(y, yar[id])\n",
        "      dedm = round(dedm,2)\n",
        "      dedc = dfc.subs(c,c1)\n",
        "      dedc = dedc.subs(m, m1) \n",
        "      dedc = dedc.subs(x, xar[id]) \n",
        "      dedc = dedc.subs(y, yar[id])\n",
        "      dedc = round(dedc,2)\n",
        "      dedm1 += dedm\n",
        "      dedc1 += dedc\n",
        "\n",
        "    dedm1 = dedm1/bs\n",
        "    dedc1 = dedc1/bs\n",
        "    dedm1 = round(dedm1,2)\n",
        "    dedc1 = round(dedc1,2)\n",
        "    #step 3:\n",
        "    dm = (-0.1)*learning_rate*dedm1\n",
        "    dc = (-0.1)*learning_rate*dedc1\n",
        "    #step 4:\n",
        "    m1 = m1+dm\n",
        "    m1 = round(m1,2)\n",
        "    c1 = c1+dc\n",
        "    c1 = round(c1,2)\n",
        "\n",
        "k=nb\n",
        "if(ms>0):\n",
        "  dedm1=0\n",
        "  dedc1=0\n",
        "  for j in range(0,ms):\n",
        "    id=k*bs+j\n",
        "    m,c,x,y = symbols('m c x y')\n",
        "    dedm = dfm.subs(m,m1)\n",
        "    dedm = dedm.subs(c, c1) \n",
        "    dedm= dedm.subs(x, xar[id]) \n",
        "    dedm = dedm.subs(y, yar[id])\n",
        "    dedm = round(dedm,2)\n",
        "    dedc = dfc.subs(c,c1)\n",
        "    dedc = dedc.subs(m, m1) \n",
        "    dedc = dedc.subs(x, xar[id]) \n",
        "    dedc = dedc.subs(y, yar[id])\n",
        "    dedc = round(dedc,2)\n",
        "    dedm1 += dedm\n",
        "    dedc1 += dedc\n",
        "\n",
        "  dedm1 = dedm1/bs\n",
        "  dedc1 = dedc1/bs\n",
        "  dedm1 = round(dedm1,2)\n",
        "  dedc1 = round(dedc1,2)\n",
        "  #step 3:\n",
        "  dm = (-0.1)*learning_rate*dedm1\n",
        "  dc = (-0.1)*learning_rate*dedc1\n",
        "  #step 4:\n",
        "  m1 = m1+dm\n",
        "  m1 = round(m1,2)\n",
        "  c1 = c1+dc\n",
        "  c1 = round(c1,2)\n",
        "\n",
        "\n",
        "print(f'min value of m = {m1} \\nmin value of c = {c1}')"
      ],
      "execution_count": 4,
      "outputs": [
        {
          "output_type": "stream",
          "text": [
            "1st order derivative w.r.t m and c :\n",
            "de/dm = -1.0*x*(-c - m*x + y) \n",
            "de/dc = 1.0*c + 1.0*m*x - 1.0*y\n",
            "min value of m = 2.51 \n",
            "min value of c = 2.34\n"
          ],
          "name": "stdout"
        }
      ]
    }
  ]
}