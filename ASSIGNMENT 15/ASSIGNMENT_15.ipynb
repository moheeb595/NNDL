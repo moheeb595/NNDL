{
  "nbformat": 4,
  "nbformat_minor": 0,
  "metadata": {
    "colab": {
      "name": "ASSIGNMENT 15.ipynb",
      "provenance": []
    },
    "kernelspec": {
      "name": "python3",
      "display_name": "Python 3"
    },
    "language_info": {
      "name": "python"
    }
  },
  "cells": [
    {
      "cell_type": "code",
      "metadata": {
        "id": "pfAn0m-WvQt9"
      },
      "source": [
        "import pandas as pd\n",
        "import numpy as np\n",
        "import matplotlib.pyplot as plt\n",
        "import math"
      ],
      "execution_count": 1,
      "outputs": []
    },
    {
      "cell_type": "code",
      "metadata": {
        "colab": {
          "base_uri": "https://localhost:8080/"
        },
        "id": "ymR0iEGzvYGa",
        "outputId": "b815170d-8271-4804-d2f5-8457e96af4af"
      },
      "source": [
        "data=[[0.2,3.4],[0.4,3.8],[0.6,4.2],[0.8,4.6]] \n",
        "data"
      ],
      "execution_count": 2,
      "outputs": [
        {
          "output_type": "execute_result",
          "data": {
            "text/plain": [
              "[[0.2, 3.4], [0.4, 3.8], [0.6, 4.2], [0.8, 4.6]]"
            ]
          },
          "metadata": {
            "tags": []
          },
          "execution_count": 2
        }
      ]
    },
    {
      "cell_type": "code",
      "metadata": {
        "colab": {
          "base_uri": "https://localhost:8080/"
        },
        "id": "r8wlz5BbvZxU",
        "outputId": "9fc022b1-e5c2-4545-e063-496d6ed9e43f"
      },
      "source": [
        "data_x = []\n",
        "data_y = []\n",
        "for i in range(len(data)):\n",
        "  data_x.append(data[i][0])\n",
        "  data_y.append(data[i][1])\n",
        "data_x = np.array(data_x)\n",
        "data_y = np.array(data_y)\n",
        "print(data_x)\n",
        "print(data_y)"
      ],
      "execution_count": 3,
      "outputs": [
        {
          "output_type": "stream",
          "text": [
            "[0.2 0.4 0.6 0.8]\n",
            "[3.4 3.8 4.2 4.6]\n"
          ],
          "name": "stdout"
        }
      ]
    },
    {
      "cell_type": "code",
      "metadata": {
        "id": "3pH4V84bveCI"
      },
      "source": [
        "\n",
        "max_iters=10000\n",
        "m=1.0\n",
        "c=-1.0\n",
        "Em=0.0\n",
        "Ec=0.0\n",
        "alpha=0.1\n",
        "exp=10**(-8)\n",
        "dm=0.0\n",
        "dc=0.0\n",
        "iter=1\n",
        "error=[]\n",
        "moment = 0.9"
      ],
      "execution_count": 10,
      "outputs": []
    },
    {
      "cell_type": "code",
      "metadata": {
        "colab": {
          "base_uri": "https://localhost:8080/"
        },
        "id": "gAhJR0FdvmPA",
        "outputId": "0fcce54e-083f-44e6-f2a9-a5b7908de2dd"
      },
      "source": [
        "while (iter<=max_iters):\n",
        "  err=0.0\n",
        "  for i in range(4):\n",
        "    gm=-1*(data_y[i]-(m*data_x[i])-c)*data_x[i]\n",
        "    gc=-1*(data_y[i]-(m*data_x[i])-c)\n",
        "    err+=(data_y[i]-m*data_x[i]-c)**2\n",
        "    Em = moment*Em + (1-moment)*(gm**2)\n",
        "    Ec = moment*Ec + (1-moment)*(gc**2)\n",
        "    r1 = math.sqrt(Em + exp)\n",
        "    r2 = math.sqrt(Ec + exp)\n",
        "    dm = -1*(alpha/r1)*gm\n",
        "    dc = -1*(alpha/r2)*gc\n",
        "    m = m + dm\n",
        "    c = c + dc\n",
        "  error.append(err/8)\n",
        "  iter=iter+1\n",
        "print(\"m=\",m,\"\\nc=\",c)\n"
      ],
      "execution_count": 13,
      "outputs": [
        {
          "output_type": "stream",
          "text": [
            "m= 2.023899171951446 \n",
            "c= 2.9983498001272957\n"
          ],
          "name": "stdout"
        }
      ]
    },
    {
      "cell_type": "code",
      "metadata": {
        "colab": {
          "base_uri": "https://localhost:8080/"
        },
        "id": "klFMPFuqvxdr",
        "outputId": "64f81ad8-1e6b-46a0-a992-34b9e254b0fc"
      },
      "source": [
        "\n",
        "ms=0\n",
        "for i in range(4):\n",
        "  ms+=(data_y[i]-(m*data_x[i])-c)**2\n",
        "ms=ms/4\n",
        "print(\"Mean Square Error:\",ms)"
      ],
      "execution_count": 12,
      "outputs": [
        {
          "output_type": "stream",
          "text": [
            "Mean Square Error: 20.299999999999997\n"
          ],
          "name": "stdout"
        }
      ]
    },
    {
      "cell_type": "code",
      "metadata": {
        "colab": {
          "base_uri": "https://localhost:8080/",
          "height": 281
        },
        "id": "kQzuMNy9v0UH",
        "outputId": "88365685-607f-4f7b-c4ee-6f76fc23faac"
      },
      "source": [
        "\n",
        "plt.scatter(data_x,data_y,label=\"Data points\")\n",
        "plt.plot(data_x,m*data_x+c,color='red',label=\"Regression line\")\n",
        "plt.title(\"Visualising Adagram\")\n",
        "plt.grid()\n",
        "plt.legend()\n",
        "plt.show()"
      ],
      "execution_count": 14,
      "outputs": [
        {
          "output_type": "display_data",
          "data": {
            "image/png": "[encoded data removed]",
            "text/plain": [
              "<Figure size 432x288 with 1 Axes>"
            ]
          },
          "metadata": {
            "tags": [],
            "needs_background": "light"
          }
        }
      ]
    },
    {
      "cell_type": "code",
      "metadata": {
        "colab": {
          "base_uri": "https://localhost:8080/",
          "height": 281
        },
        "id": "2sUdHRHbv36g",
        "outputId": "cce44300-8577-4537-a244-063823db8df1"
      },
      "source": [
        "\n",
        "iters=np.arange(max_iters)\n",
        "plt.plot(iters,error)\n",
        "plt.title(\"Error Rate Analysis\")\n",
        "plt.show()"
      ],
      "execution_count": 15,
      "outputs": [
        {
          "output_type": "display_data",
          "data": {
            "image/png": "[encoded data removed]",
            "text/plain": [
              "<Figure size 432x288 with 1 Axes>"
            ]
          },
          "metadata": {
            "tags": [],
            "needs_background": "light"
          }
        }
      ]
    }
  ]
}